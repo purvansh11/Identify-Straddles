{
 "cells": [
  {
   "cell_type": "markdown",
   "id": "178104a4",
   "metadata": {},
   "source": [
    "### iRage IOC Assignment - 27th Feb 2022"
   ]
  },
  {
   "cell_type": "markdown",
   "id": "b843a750",
   "metadata": {},
   "source": [
    "### Assumptions\n",
    "- For a trade to be IOC, by definition - it has to have the same timestamp for N/M and T Type trade as it is immediate or cancel order\n",
    "- For any IOC Trade, there is exactly one N or M order and also, both N and M orders cannot occur at the same timestamp\n",
    "- Trade and Cancel order also cannot happen at the same timestamp \n",
    "- Same ExchId has to be present in T and N/M order for IOC Trade\n",
    "- Have taken absolute values for Bought and Sold Straddles"
   ]
  },
  {
   "cell_type": "markdown",
   "id": "4551a89a",
   "metadata": {},
   "source": [
    "#### Importing Modules"
   ]
  },
  {
   "cell_type": "code",
   "execution_count": 1,
   "id": "8ffce5b7",
   "metadata": {},
   "outputs": [],
   "source": [
    "import pandas as pd\n",
    "pd.options.mode.chained_assignment = None"
   ]
  },
  {
   "cell_type": "markdown",
   "id": "1e078270",
   "metadata": {},
   "source": [
    "#### Reading Data"
   ]
  },
  {
   "cell_type": "code",
   "execution_count": 2,
   "id": "e813f59c",
   "metadata": {
    "scrolled": true
   },
   "outputs": [],
   "source": [
    "df1 = pd.read_csv('dataset_instrument1.csv')\n",
    "df2 = pd.read_csv('dataset_instrument2.csv')"
   ]
  },
  {
   "cell_type": "markdown",
   "id": "66fbb98c",
   "metadata": {},
   "source": [
    "#### Finding IOC Trades"
   ]
  },
  {
   "cell_type": "code",
   "execution_count": 3,
   "id": "6b42b70b",
   "metadata": {},
   "outputs": [],
   "source": [
    "def find_ioc_trades(df):\n",
    "    \n",
    "    # Drop trades/exchstamp where only 1 trade is present as for the trade to be IOC, it has to have min 2 trades - 1 for N/M and 1 for T\n",
    "    df_non_unique = df[df.ExchTstamp.duplicated(keep=False)]\n",
    "    # Storing value as price*qty for T type trades\n",
    "    df_non_unique['value'] = df_non_unique.apply(lambda row: row['price']*row['qty'] if row['Type'] == 'T' else 0, axis=1)\n",
    "    \n",
    "    # Grouping the trades by ExchTstamp to identify possible IOC trades\n",
    "    gb = df_non_unique.groupby(by=['ExchTstamp'])    \n",
    "    df_groups = [gb.get_group(x) for x in gb.groups]\n",
    "\n",
    "    # Initiating count and value of IOC trades\n",
    "    ioc_trades_cnt = 0\n",
    "    ioc_trades_value = 0\n",
    "    ioc_df_list = []\n",
    "    \n",
    "    # Looping over all groups\n",
    "    for df in df_groups:\n",
    "        # Condition to check that the group has to have either N/M and T to classify as IOC Trade\n",
    "        if (('N' in df.Type.values) | ('M' in df.Type.values)) & ('T' in df.Type.values) & ('X' not in df.Type.values):\n",
    "            # Adding those numbers and values to the respective variables\n",
    "            ioc_df_list.append(df)\n",
    "            ioc_trades_cnt += len(df[df['Type'] == 'T'])\n",
    "            ioc_trades_value += df['value'].sum()\n",
    "            \n",
    "    return [ioc_trades_cnt, ioc_trades_value, ioc_df_list]"
   ]
  },
  {
   "cell_type": "code",
   "execution_count": 4,
   "id": "a9ddd2c3",
   "metadata": {},
   "outputs": [
    {
     "name": "stdout",
     "output_type": "stream",
     "text": [
      "CALL INSTRUMENT :\n",
      "Total No. of IOC Traded - 6546\n",
      "Total Value of IOC Traded - 11,868,147,750\n",
      "---------------------------------------------------------\n",
      "PUT INSTRUMENT :\n",
      "Total No. of IOC Traded - 10539\n",
      "Total Value of IOC Traded - 11,094,982,500\n",
      "Wall time: 6.02 s\n"
     ]
    }
   ],
   "source": [
    "%%time\n",
    "# Calling function to find out IOC trades for each Instruments - Call and Put\n",
    "[call_ioc_trades_cnt, call_ioc_trades_value, call_ioc_df_list] = find_ioc_trades(df1)\n",
    "[put_ioc_trades_cnt, put_ioc_trades_value, put_ioc_df_list] = find_ioc_trades(df2)\n",
    "\n",
    "print('CALL INSTRUMENT :')\n",
    "print('Total No. of IOC Traded - {}'.format(call_ioc_trades_cnt))\n",
    "print('Total Value of IOC Traded - {:,}'.format(call_ioc_trades_value))\n",
    "print('---------------------------------------------------------')\n",
    "print('PUT INSTRUMENT :')\n",
    "print('Total No. of IOC Traded - {}'.format(put_ioc_trades_cnt))\n",
    "print('Total Value of IOC Traded - {:,}'.format(put_ioc_trades_value))"
   ]
  },
  {
   "cell_type": "markdown",
   "id": "8b485c3b",
   "metadata": {},
   "source": [
    "### Finding Straddles from IOC Trades"
   ]
  },
  {
   "cell_type": "code",
   "execution_count": 5,
   "id": "4d95e386",
   "metadata": {},
   "outputs": [],
   "source": [
    "# Concatenating all Put Instrument IOC trades in a df\n",
    "put_ioc_df = pd.concat(put_ioc_df_list)\n",
    "# Filtering it out by T Type trades\n",
    "put_ioc_df = put_ioc_df[put_ioc_df['Type']=='T'] \n",
    "\n",
    "dict_delta = {'nanoseconds':1,'microseconds':10**3,'milliseconds':10**6,'second':10**9}\n",
    "\n",
    "def find_straddles(deltaval):\n",
    "    \n",
    "    # Finding out Delta based on the passed input - 100 nanoseconds or 10 microseconds, etc.\n",
    "    if(deltaval.split()[1]=='second' or deltaval.split()[1]=='seconds'):\n",
    "        delta = 10**9 * float(deltaval.split()[0])\n",
    "    else:\n",
    "        delta = [val for key, val in dict_delta.items() if deltaval.split()[1] in key][0] * float(deltaval.split()[0])\n",
    "    \n",
    "    # Initiating counts and values\n",
    "    cnt = 0\n",
    "    bought_straddles_cnt = 0\n",
    "    sold_straddles_cnt = 0\n",
    "    bought_straddles_value = 0\n",
    "    sold_straddles_value = 0\n",
    "\n",
    "    # Looping over each Call IOC Trade df\n",
    "    for df_call in call_ioc_df_list:\n",
    "        # Sorting df by Type\n",
    "        df_call = df_call.sort_values(by=['Type'])\n",
    "        \n",
    "        # Extracting out the ExchTstamp for the IOC Trade from the CALL Instrument\n",
    "        timestamp = df_call.ExchTstamp.iloc[0]\n",
    "        \n",
    "        # Extracting out the Side for the IOC Trade from the CALL Instrument\n",
    "        call_side = df_call[df_call['Type']=='T'].Side.iloc[0]\n",
    "        \n",
    "        # Slicing PUT Instrument IOC Trades based on the Delta\n",
    "        df_put = put_ioc_df[put_ioc_df['ExchTstamp'].between(timestamp-delta, timestamp+delta)]\n",
    "        \n",
    "        # Filtering out the PUT IOC Trades based on the CALL Side, given for a Straddle - Both legs need to have the same side\n",
    "        df_put = df_put[df_put['Side']==call_side]\n",
    "\n",
    "        # Check for straddles\n",
    "        if(len(df_put) != 0):\n",
    "            if call_side=='B':\n",
    "                # Finding out min qty of CALL and PUT Leg for Straddle qty traded\n",
    "                minqty = min(df_call[df_call['Type']=='T'].qty.sum(), df_put.qty.sum())\n",
    "                \n",
    "                # Average of price and qty, and then multiplying it by minqty to get Straddle CALL traded value\n",
    "                bought_value_call = (df_call.value.sum() / df_call[df_call['Type']=='T'].qty.sum()) * minqty\n",
    "                # Average of price and qty, and then multiplying it by minqty to get Straddle PUT traded value\n",
    "                bought_value_put = (df_put.value.sum() / df_put.qty.sum()) * minqty\n",
    "                \n",
    "                # Adding up all the values\n",
    "                bought_straddles_value = bought_straddles_value + bought_value_call + bought_value_put\n",
    "                bought_straddles_cnt += 1\n",
    "            else:\n",
    "                # Same calculation as above, just for Side = S\n",
    "                minqty = min(df_call[df_call['Type']=='T'].qty.sum(), df_put.qty.sum())\n",
    "                sold_value_call = (df_call.value.sum() / df_call[df_call['Type']=='T'].qty.sum()) * minqty\n",
    "                sold_value_put = (df_put.value.sum() / df_put.qty.sum()) * minqty\n",
    "                sold_straddles_value = sold_straddles_value + sold_value_call + sold_value_put\n",
    "                sold_straddles_cnt += 1\n",
    "\n",
    "    print('DELTA - {}'.format(deltaval))\n",
    "    print('Bought Straddles Count : {}'.format(bought_straddles_cnt))\n",
    "    print('Bought Straddles Value : {:,}'.format(round(bought_straddles_value,2)))\n",
    "    print('Sold Straddles Count : {}'.format(sold_straddles_cnt))\n",
    "    print('Sold Straddles Value : {:,}'.format(round(sold_straddles_value,2)))\n",
    "    print('Net Straddles Traded Count : {}'.format(bought_straddles_cnt-sold_straddles_cnt))\n",
    "    print('Net Straddles Traded Value : {:,}'.format(round(bought_straddles_value-sold_straddles_value,2)))\n",
    "    print('------------------------------------------------')"
   ]
  },
  {
   "cell_type": "code",
   "execution_count": 6,
   "id": "b3846ad3",
   "metadata": {},
   "outputs": [
    {
     "name": "stdout",
     "output_type": "stream",
     "text": [
      "DELTA - 100 nanoseconds\n",
      "Bought Straddles Count : 0\n",
      "Bought Straddles Value : 0\n",
      "Sold Straddles Count : 0\n",
      "Sold Straddles Value : 0\n",
      "Net Straddles Traded Count : 0\n",
      "Net Straddles Traded Value : 0\n",
      "------------------------------------------------\n",
      "DELTA - 250 nanoseconds\n",
      "Bought Straddles Count : 0\n",
      "Bought Straddles Value : 0\n",
      "Sold Straddles Count : 0\n",
      "Sold Straddles Value : 0\n",
      "Net Straddles Traded Count : 0\n",
      "Net Straddles Traded Value : 0\n",
      "------------------------------------------------\n",
      "DELTA - 500 nanoseconds\n",
      "Bought Straddles Count : 0\n",
      "Bought Straddles Value : 0\n",
      "Sold Straddles Count : 0\n",
      "Sold Straddles Value : 0\n",
      "Net Straddles Traded Count : 0\n",
      "Net Straddles Traded Value : 0\n",
      "------------------------------------------------\n",
      "DELTA - 1 microsecond\n",
      "Bought Straddles Count : 0\n",
      "Bought Straddles Value : 0\n",
      "Sold Straddles Count : 0\n",
      "Sold Straddles Value : 0\n",
      "Net Straddles Traded Count : 0\n",
      "Net Straddles Traded Value : 0\n",
      "------------------------------------------------\n",
      "DELTA - 10 microseconds\n",
      "Bought Straddles Count : 0\n",
      "Bought Straddles Value : 0\n",
      "Sold Straddles Count : 0\n",
      "Sold Straddles Value : 0\n",
      "Net Straddles Traded Count : 0\n",
      "Net Straddles Traded Value : 0\n",
      "------------------------------------------------\n",
      "DELTA - 500 microseconds\n",
      "Bought Straddles Count : 13\n",
      "Bought Straddles Value : 23,367,625.0\n",
      "Sold Straddles Count : 13\n",
      "Sold Straddles Value : 30,178,250.0\n",
      "Net Straddles Traded Count : 0\n",
      "Net Straddles Traded Value : -6,810,625.0\n",
      "------------------------------------------------\n",
      "DELTA - 1 millisecond\n",
      "Bought Straddles Count : 26\n",
      "Bought Straddles Value : 54,075,250.0\n",
      "Sold Straddles Count : 18\n",
      "Sold Straddles Value : 40,279,566.67\n",
      "Net Straddles Traded Count : 8\n",
      "Net Straddles Traded Value : 13,795,683.33\n",
      "------------------------------------------------\n",
      "DELTA - 100 milliseconds\n",
      "Bought Straddles Count : 146\n",
      "Bought Straddles Value : 381,439,755.82\n",
      "Sold Straddles Count : 162\n",
      "Sold Straddles Value : 391,976,642.4\n",
      "Net Straddles Traded Count : -16\n",
      "Net Straddles Traded Value : -10,536,886.59\n",
      "------------------------------------------------\n",
      "DELTA - 1 second\n",
      "Bought Straddles Count : 522\n",
      "Bought Straddles Value : 1,611,959,432.3\n",
      "Sold Straddles Count : 527\n",
      "Sold Straddles Value : 1,531,996,420.59\n",
      "Net Straddles Traded Count : -5\n",
      "Net Straddles Traded Value : 79,963,011.72\n",
      "------------------------------------------------\n"
     ]
    }
   ],
   "source": [
    "delta_list = ['100 nanoseconds', '250 nanoseconds', '500 nanoseconds', '1 microsecond', '10 microseconds', '500 microseconds', '1 millisecond', '100 milliseconds', '1 second']\n",
    "\n",
    "for deltaval in delta_list:\n",
    "    find_straddles(deltaval)"
   ]
  },
  {
   "cell_type": "code",
   "execution_count": null,
   "id": "aa435923",
   "metadata": {},
   "outputs": [],
   "source": []
  }
 ],
 "metadata": {
  "kernelspec": {
   "display_name": "Python 3",
   "language": "python",
   "name": "python3"
  },
  "language_info": {
   "codemirror_mode": {
    "name": "ipython",
    "version": 3
   },
   "file_extension": ".py",
   "mimetype": "text/x-python",
   "name": "python",
   "nbconvert_exporter": "python",
   "pygments_lexer": "ipython3",
   "version": "3.8.8"
  }
 },
 "nbformat": 4,
 "nbformat_minor": 5
}
